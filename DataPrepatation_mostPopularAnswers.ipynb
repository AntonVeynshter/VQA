{
 "cells": [
  {
   "cell_type": "markdown",
   "metadata": {},
   "source": [
    "# Notebook 1: Data Preparation"
   ]
  },
  {
   "cell_type": "code",
   "execution_count": null,
   "metadata": {},
   "outputs": [],
   "source": []
  },
  {
   "cell_type": "markdown",
   "metadata": {},
   "source": [
    "# Challenge"
   ]
  },
  {
   "cell_type": "raw",
   "metadata": {},
   "source": [
    " As object of this work Visual Question Answering Challenge was chosen. \n",
    " https://arxiv.org/pdf/1505.00468.pdf\n",
    " https://visualqa.org/\n",
    " \n",
    " Visual Question Answering was presented in 2015 and in version 1 contained:\n",
    "     204,721 COCO images (all of current train/val/test)\n",
    "     614,163 questions\n",
    "     6,141,630 ground truth answers\n",
    "     1,842,489 plausible answers\n",
    " \n",
    " In version 2 there were:\n",
    "     204,721 COCO images (all of current train/val/test)\n",
    "     1,105,904 questions\n",
    "     11,059,040 ground truth answers\n",
    " \n",
    " For this work V2 was taken \n",
    "\n",
    "\n",
    " There are also other VQA datasets like CLEVR \n",
    " https://towardsdatascience.com/deep-learning-and-visual-question-answering-c8c8093941bc\n",
    " https://cs.stanford.edu/people/jcjohns/clevr/"
   ]
  },
  {
   "cell_type": "code",
   "execution_count": null,
   "metadata": {},
   "outputs": [],
   "source": []
  },
  {
   "cell_type": "markdown",
   "metadata": {},
   "source": [
    "# Data"
   ]
  },
  {
   "cell_type": "raw",
   "metadata": {},
   "source": [
    "Whole data needed for this project could be downloaded here https://visualqa.org/download.html"
   ]
  },
  {
   "cell_type": "code",
   "execution_count": null,
   "metadata": {},
   "outputs": [],
   "source": []
  },
  {
   "cell_type": "code",
   "execution_count": null,
   "metadata": {},
   "outputs": [],
   "source": []
  },
  {
   "cell_type": "code",
   "execution_count": 1,
   "metadata": {},
   "outputs": [],
   "source": [
    "import json  \n",
    "import pandas as pd\n",
    "#import spacy  \n",
    "import progressbar\n",
    "from csv import writer\n",
    "from io import StringIO\n",
    "import numpy as np\n",
    "import random\n",
    "from sklearn.preprocessing import LabelEncoder\n",
    "#from utils import most_freq_answer #https://github.com/sominwadhwa/vqamd_floyd\n",
    "\n",
    "import pickle\n",
    "from pickle import dump\n",
    "\n",
    "from tensorflow.keras.preprocessing.text import Tokenizer\n",
    "from tensorflow.keras.preprocessing.sequence import pad_sequences\n",
    "from tensorflow.keras.utils import to_categorical\n",
    "\n",
    "import gc\n",
    "import cv2\n",
    "import matplotlib.pyplot as plt\n",
    "\n",
    "import operator"
   ]
  },
  {
   "cell_type": "markdown",
   "metadata": {},
   "source": [
    "## Saving in .pickle\n"
   ]
  },
  {
   "cell_type": "code",
   "execution_count": 2,
   "metadata": {},
   "outputs": [],
   "source": [
    "def save_clean_data(sentences, filename):\n",
    "    dump(sentences, open(filename, 'wb'))\n",
    "    print('Saved: %s' % filename)"
   ]
  },
  {
   "cell_type": "markdown",
   "metadata": {},
   "source": [
    "### Function for choosing of the most popular answer from given 10"
   ]
  },
  {
   "cell_type": "code",
   "execution_count": 3,
   "metadata": {},
   "outputs": [],
   "source": [
    "def most_freq_answer(values):\n",
    "    ans_dict = {}\n",
    "    for index in range(10):\n",
    "        ans_dict[values[index]['answer']] = 1\n",
    "    for index in range(10):\n",
    "        ans_dict[values[index]['answer']] += 1\n",
    "\n",
    "    return max(ans_dict.items(), key = operator.itemgetter(1))[0]"
   ]
  },
  {
   "cell_type": "markdown",
   "metadata": {},
   "source": [
    "# Create all relevant data-dumps required\n"
   ]
  },
  {
   "cell_type": "code",
   "execution_count": 4,
   "metadata": {},
   "outputs": [],
   "source": [
    "#TrainingSet\n",
    "ann = './../VQA_data/trainSet/v2_mscoco_train2014_annotations.json'\n",
    "ques = '../VQA_data/trainSet/v2_OpenEnded_mscoco_train2014_questions.json'\n",
    "relation='../VQA_data/trainSet/v2_mscoco_train2014_complementary_pairs.json'\n",
    "#ValidationSet\n",
    "annV = './../VQA_data/validationSet/v2_mscoco_val2014_annotations.json'\n",
    "quesV = '../VQA_data/validationSet/v2_OpenEnded_mscoco_val2014_questions.json'\n",
    "relationV='../VQA_data/validationSet/v2_mscoco_val2014_complementary_pairs.json'\n",
    "#TestSet\n",
    "quesT = '../VQA_data/testSet/v2_OpenEnded_mscoco_test2015_questions.json'"
   ]
  },
  {
   "cell_type": "markdown",
   "metadata": {},
   "source": [
    "# Open DataSets"
   ]
  },
  {
   "cell_type": "code",
   "execution_count": 5,
   "metadata": {},
   "outputs": [],
   "source": [
    "ques = json.load(open(ques,'r'))\n",
    "questions = ques['questions']\n",
    "qa = json.load(open(ann,'r'))\n",
    "annotations = qa['annotations']\n",
    "qRelation=json.load(open(relation,'r'))"
   ]
  },
  {
   "cell_type": "code",
   "execution_count": 6,
   "metadata": {},
   "outputs": [],
   "source": [
    "quesV = json.load(open(quesV,'r'))\n",
    "questionsV = quesV['questions']\n",
    "qaV = json.load(open(annV,'r'))\n",
    "annotationsV = qaV['annotations']\n",
    "qRelationV=json.load(open(relationV,'r'))"
   ]
  },
  {
   "cell_type": "code",
   "execution_count": 7,
   "metadata": {},
   "outputs": [],
   "source": [
    "quesT = json.load(open(quesT,'r'))\n",
    "questionsT = quesT['questions']"
   ]
  },
  {
   "cell_type": "markdown",
   "metadata": {},
   "source": [
    "# Lets look what's inside"
   ]
  },
  {
   "cell_type": "code",
   "execution_count": 8,
   "metadata": {},
   "outputs": [
    {
     "data": {
      "text/plain": [
       "{'question_type': 'what is this',\n",
       " 'multiple_choice_answer': 'net',\n",
       " 'answers': [{'answer': 'net', 'answer_confidence': 'maybe', 'answer_id': 1},\n",
       "  {'answer': 'net', 'answer_confidence': 'yes', 'answer_id': 2},\n",
       "  {'answer': 'net', 'answer_confidence': 'yes', 'answer_id': 3},\n",
       "  {'answer': 'netting', 'answer_confidence': 'yes', 'answer_id': 4},\n",
       "  {'answer': 'net', 'answer_confidence': 'yes', 'answer_id': 5},\n",
       "  {'answer': 'net', 'answer_confidence': 'yes', 'answer_id': 6},\n",
       "  {'answer': 'mesh', 'answer_confidence': 'maybe', 'answer_id': 7},\n",
       "  {'answer': 'net', 'answer_confidence': 'yes', 'answer_id': 8},\n",
       "  {'answer': 'net', 'answer_confidence': 'yes', 'answer_id': 9},\n",
       "  {'answer': 'net', 'answer_confidence': 'yes', 'answer_id': 10}],\n",
       " 'image_id': 458752,\n",
       " 'answer_type': 'other',\n",
       " 'question_id': 458752000}"
      ]
     },
     "execution_count": 8,
     "metadata": {},
     "output_type": "execute_result"
    }
   ],
   "source": [
    "x=0\n",
    "qa[\"annotations\"][x]"
   ]
  },
  {
   "cell_type": "code",
   "execution_count": 9,
   "metadata": {},
   "outputs": [
    {
     "data": {
      "text/plain": [
       "{'image_id': 458752,\n",
       " 'question': 'What is this photo taken looking through?',\n",
       " 'question_id': 458752000}"
      ]
     },
     "execution_count": 9,
     "metadata": {},
     "output_type": "execute_result"
    }
   ],
   "source": [
    "questions[x]"
   ]
  },
  {
   "cell_type": "code",
   "execution_count": 10,
   "metadata": {},
   "outputs": [
    {
     "data": {
      "text/plain": [
       "[158307014, 254204008]"
      ]
     },
     "execution_count": 10,
     "metadata": {},
     "output_type": "execute_result"
    }
   ],
   "source": [
    "qRelation[x]"
   ]
  },
  {
   "cell_type": "code",
   "execution_count": 11,
   "metadata": {},
   "outputs": [
    {
     "data": {
      "text/plain": [
       "'net'"
      ]
     },
     "execution_count": 11,
     "metadata": {},
     "output_type": "execute_result"
    }
   ],
   "source": [
    "annotations[x][\"answers\"][0][\"answer\"]"
   ]
  },
  {
   "cell_type": "code",
   "execution_count": 12,
   "metadata": {},
   "outputs": [
    {
     "name": "stdout",
     "output_type": "stream",
     "text": [
      "443757\n",
      "443757\n"
     ]
    }
   ],
   "source": [
    "print(len(annotations))\n",
    "print(len(questions))"
   ]
  },
  {
   "cell_type": "code",
   "execution_count": null,
   "metadata": {},
   "outputs": [],
   "source": []
  },
  {
   "cell_type": "code",
   "execution_count": 13,
   "metadata": {},
   "outputs": [
    {
     "data": {
      "text/plain": [
       "'net'"
      ]
     },
     "execution_count": 13,
     "metadata": {},
     "output_type": "execute_result"
    }
   ],
   "source": [
    "most_freq_answer(annotations[x][\"answers\"])"
   ]
  },
  {
   "cell_type": "markdown",
   "metadata": {},
   "source": [
    "# Lets process the data"
   ]
  },
  {
   "cell_type": "markdown",
   "metadata": {},
   "source": [
    "### training set"
   ]
  },
  {
   "cell_type": "markdown",
   "metadata": {},
   "source": [
    "### Wrong way to create csv:"
   ]
  },
  {
   "cell_type": "raw",
   "metadata": {},
   "source": [
    "data_train=pd.DataFrame(columns=[\"image_id\",\"question\",\"answer\",\"train_val_test\"])\n",
    "\n",
    "for i in range(len(questions)): #TODO implement Progressbar\n",
    "    if i%15000==0:\n",
    "        start = time.time()\n",
    "        print (i,\"von\",len(questions))\n",
    "        end = time.time()\n",
    "        print((end - start)*1000)\n",
    "    data_train.loc[len(data_train)] = [questions[i][\"image_id\"],questions[i][\"question\"],annotations[i][\"answers\"][0][\"answer\"],0]"
   ]
  },
  {
   "cell_type": "markdown",
   "metadata": {},
   "source": [
    "### The code above took a night to be done for all data. The code below just seconds"
   ]
  },
  {
   "cell_type": "markdown",
   "metadata": {},
   "source": [
    "### Right way:"
   ]
  },
  {
   "cell_type": "code",
   "execution_count": 14,
   "metadata": {},
   "outputs": [
    {
     "name": "stdout",
     "output_type": "stream",
     "text": [
      "0 von 443757\n",
      "15000 von 443757\n",
      "30000 von 443757\n",
      "45000 von 443757\n",
      "60000 von 443757\n",
      "75000 von 443757\n",
      "90000 von 443757\n",
      "105000 von 443757\n",
      "120000 von 443757\n",
      "135000 von 443757\n",
      "150000 von 443757\n",
      "165000 von 443757\n",
      "180000 von 443757\n",
      "195000 von 443757\n",
      "210000 von 443757\n",
      "225000 von 443757\n",
      "240000 von 443757\n",
      "255000 von 443757\n",
      "270000 von 443757\n",
      "285000 von 443757\n",
      "300000 von 443757\n",
      "315000 von 443757\n",
      "330000 von 443757\n",
      "345000 von 443757\n",
      "360000 von 443757\n",
      "375000 von 443757\n",
      "390000 von 443757\n",
      "405000 von 443757\n",
      "420000 von 443757\n",
      "435000 von 443757\n"
     ]
    }
   ],
   "source": [
    "output = StringIO()\n",
    "csv_writer = writer(output)\n",
    "csv_writer.writerow([\"image_id\",\"question\",\"answer\",\"train_val_test\"])\n",
    "for i in range(len(questions)): #TODO implement Progressbar\n",
    "    if i%15000==0:\n",
    "        print (i,\"von\",len(questions))\n",
    "    csv_writer.writerow([questions[i][\"image_id\"],questions[i][\"question\"],most_freq_answer(annotations[i][\"answers\"]),\"0\"])\n",
    "output.seek(0)\n",
    "data_train = pd.read_csv(output)"
   ]
  },
  {
   "cell_type": "code",
   "execution_count": 15,
   "metadata": {},
   "outputs": [],
   "source": [
    "data_train.to_csv(\"data_train.csv\",index=False)\n",
    "data_train=[]\n"
   ]
  },
  {
   "cell_type": "markdown",
   "metadata": {},
   "source": [
    "### validation set"
   ]
  },
  {
   "cell_type": "code",
   "execution_count": 16,
   "metadata": {},
   "outputs": [
    {
     "name": "stdout",
     "output_type": "stream",
     "text": [
      "0 von 214354\n",
      "15000 von 214354\n",
      "30000 von 214354\n",
      "45000 von 214354\n",
      "60000 von 214354\n",
      "75000 von 214354\n",
      "90000 von 214354\n",
      "105000 von 214354\n",
      "120000 von 214354\n",
      "135000 von 214354\n",
      "150000 von 214354\n",
      "165000 von 214354\n",
      "180000 von 214354\n",
      "195000 von 214354\n",
      "210000 von 214354\n"
     ]
    }
   ],
   "source": [
    "output = StringIO()\n",
    "csv_writer = writer(output)\n",
    "csv_writer.writerow([\"image_id\",\"question\",\"answer\",\"train_val_test\"])\n",
    "for i in range(len(questionsV)): #TODO implement Progressbar\n",
    "    if i%15000==0:\n",
    "        print (i,\"von\",len(questionsV))\n",
    "    csv_writer.writerow([questionsV[i][\"image_id\"],questionsV[i][\"question\"],most_freq_answer(annotationsV[i][\"answers\"]),\"1\"])\n",
    "output.seek(0)\n",
    "data_val = pd.read_csv(output)"
   ]
  },
  {
   "cell_type": "code",
   "execution_count": 17,
   "metadata": {},
   "outputs": [],
   "source": [
    "data_val.to_csv(\"data_val.csv\",index=False)\n",
    "#len(data_val)\n",
    "data_val=[]"
   ]
  },
  {
   "cell_type": "markdown",
   "metadata": {},
   "source": [
    "### test set"
   ]
  },
  {
   "cell_type": "code",
   "execution_count": 18,
   "metadata": {},
   "outputs": [
    {
     "name": "stdout",
     "output_type": "stream",
     "text": [
      "0 von 447793\n",
      "15000 von 447793\n",
      "30000 von 447793\n",
      "45000 von 447793\n",
      "60000 von 447793\n",
      "75000 von 447793\n",
      "90000 von 447793\n",
      "105000 von 447793\n",
      "120000 von 447793\n",
      "135000 von 447793\n",
      "150000 von 447793\n",
      "165000 von 447793\n",
      "180000 von 447793\n",
      "195000 von 447793\n",
      "210000 von 447793\n",
      "225000 von 447793\n",
      "240000 von 447793\n",
      "255000 von 447793\n",
      "270000 von 447793\n",
      "285000 von 447793\n",
      "300000 von 447793\n",
      "315000 von 447793\n",
      "330000 von 447793\n",
      "345000 von 447793\n",
      "360000 von 447793\n",
      "375000 von 447793\n",
      "390000 von 447793\n",
      "405000 von 447793\n",
      "420000 von 447793\n",
      "435000 von 447793\n"
     ]
    }
   ],
   "source": [
    "output = StringIO()\n",
    "csv_writer = writer(output)\n",
    "csv_writer.writerow([\"image_id\",\"question\",\"answer\",\"train_val_test\"])\n",
    "for i in range(len(questionsT)): #TODO implement Progressbar\n",
    "    if i%15000==0:\n",
    "        print (i,\"von\",len(questionsT))\n",
    "    csv_writer.writerow([questionsT[i][\"image_id\"],questionsT[i][\"question\"],\"NO_ANSWER\",\"2\"])\n",
    "output.seek(0)\n",
    "data_test = pd.read_csv(output)"
   ]
  },
  {
   "cell_type": "code",
   "execution_count": 19,
   "metadata": {},
   "outputs": [],
   "source": [
    "data_test.to_csv(\"data_test.csv\",index=False)\n",
    "data_test=[]"
   ]
  },
  {
   "cell_type": "code",
   "execution_count": null,
   "metadata": {},
   "outputs": [],
   "source": []
  },
  {
   "cell_type": "markdown",
   "metadata": {},
   "source": [
    "# Create another data set, that will be used for further work"
   ]
  },
  {
   "cell_type": "code",
   "execution_count": 20,
   "metadata": {},
   "outputs": [
    {
     "data": {
      "text/html": [
       "<div>\n",
       "<style scoped>\n",
       "    .dataframe tbody tr th:only-of-type {\n",
       "        vertical-align: middle;\n",
       "    }\n",
       "\n",
       "    .dataframe tbody tr th {\n",
       "        vertical-align: top;\n",
       "    }\n",
       "\n",
       "    .dataframe thead th {\n",
       "        text-align: right;\n",
       "    }\n",
       "</style>\n",
       "<table border=\"1\" class=\"dataframe\">\n",
       "  <thead>\n",
       "    <tr style=\"text-align: right;\">\n",
       "      <th></th>\n",
       "      <th>image_id</th>\n",
       "      <th>question</th>\n",
       "      <th>answer</th>\n",
       "      <th>train_val_test</th>\n",
       "    </tr>\n",
       "  </thead>\n",
       "  <tbody>\n",
       "    <tr>\n",
       "      <th>0</th>\n",
       "      <td>458752</td>\n",
       "      <td>What is this photo taken looking through?</td>\n",
       "      <td>net</td>\n",
       "      <td>0</td>\n",
       "    </tr>\n",
       "    <tr>\n",
       "      <th>1</th>\n",
       "      <td>458752</td>\n",
       "      <td>What position is this man playing?</td>\n",
       "      <td>pitcher</td>\n",
       "      <td>0</td>\n",
       "    </tr>\n",
       "    <tr>\n",
       "      <th>2</th>\n",
       "      <td>458752</td>\n",
       "      <td>What color is the players shirt?</td>\n",
       "      <td>orange</td>\n",
       "      <td>0</td>\n",
       "    </tr>\n",
       "    <tr>\n",
       "      <th>3</th>\n",
       "      <td>458752</td>\n",
       "      <td>Is this man a professional baseball player?</td>\n",
       "      <td>yes</td>\n",
       "      <td>0</td>\n",
       "    </tr>\n",
       "    <tr>\n",
       "      <th>4</th>\n",
       "      <td>262146</td>\n",
       "      <td>What color is the snow?</td>\n",
       "      <td>white</td>\n",
       "      <td>0</td>\n",
       "    </tr>\n",
       "    <tr>\n",
       "      <th>5</th>\n",
       "      <td>262146</td>\n",
       "      <td>What is the person doing?</td>\n",
       "      <td>skiing</td>\n",
       "      <td>0</td>\n",
       "    </tr>\n",
       "    <tr>\n",
       "      <th>6</th>\n",
       "      <td>262146</td>\n",
       "      <td>What color is the persons headwear?</td>\n",
       "      <td>red</td>\n",
       "      <td>0</td>\n",
       "    </tr>\n",
       "    <tr>\n",
       "      <th>7</th>\n",
       "      <td>524291</td>\n",
       "      <td>What is in the person's hand?</td>\n",
       "      <td>frisbee</td>\n",
       "      <td>0</td>\n",
       "    </tr>\n",
       "    <tr>\n",
       "      <th>8</th>\n",
       "      <td>524291</td>\n",
       "      <td>Is the dog waiting?</td>\n",
       "      <td>yes</td>\n",
       "      <td>0</td>\n",
       "    </tr>\n",
       "    <tr>\n",
       "      <th>9</th>\n",
       "      <td>524291</td>\n",
       "      <td>Is the dog looking at a tennis ball or frisbee?</td>\n",
       "      <td>frisbee</td>\n",
       "      <td>0</td>\n",
       "    </tr>\n",
       "    <tr>\n",
       "      <th>10</th>\n",
       "      <td>393221</td>\n",
       "      <td>Is the sky blue?</td>\n",
       "      <td>yes</td>\n",
       "      <td>0</td>\n",
       "    </tr>\n",
       "    <tr>\n",
       "      <th>11</th>\n",
       "      <td>393221</td>\n",
       "      <td>Is there snow on the mountains?</td>\n",
       "      <td>yes</td>\n",
       "      <td>0</td>\n",
       "    </tr>\n",
       "    <tr>\n",
       "      <th>12</th>\n",
       "      <td>393221</td>\n",
       "      <td>What is the white streak?</td>\n",
       "      <td>contrail</td>\n",
       "      <td>0</td>\n",
       "    </tr>\n",
       "    <tr>\n",
       "      <th>13</th>\n",
       "      <td>393223</td>\n",
       "      <td>Is the window open?</td>\n",
       "      <td>yes</td>\n",
       "      <td>0</td>\n",
       "    </tr>\n",
       "    <tr>\n",
       "      <th>14</th>\n",
       "      <td>393223</td>\n",
       "      <td>What color is the toothbrush?</td>\n",
       "      <td>white and purple</td>\n",
       "      <td>0</td>\n",
       "    </tr>\n",
       "    <tr>\n",
       "      <th>15</th>\n",
       "      <td>393223</td>\n",
       "      <td>What is the child doing?</td>\n",
       "      <td>brushing teeth</td>\n",
       "      <td>0</td>\n",
       "    </tr>\n",
       "    <tr>\n",
       "      <th>16</th>\n",
       "      <td>393223</td>\n",
       "      <td>Is she brushing?</td>\n",
       "      <td>yes</td>\n",
       "      <td>0</td>\n",
       "    </tr>\n",
       "    <tr>\n",
       "      <th>17</th>\n",
       "      <td>393224</td>\n",
       "      <td>Is the man smiling?</td>\n",
       "      <td>no</td>\n",
       "      <td>0</td>\n",
       "    </tr>\n",
       "    <tr>\n",
       "      <th>18</th>\n",
       "      <td>393224</td>\n",
       "      <td>What is the business man doing in the picture?</td>\n",
       "      <td>frowning</td>\n",
       "      <td>0</td>\n",
       "    </tr>\n",
       "    <tr>\n",
       "      <th>19</th>\n",
       "      <td>393224</td>\n",
       "      <td>Does his tie pair well with his suit?</td>\n",
       "      <td>no</td>\n",
       "      <td>0</td>\n",
       "    </tr>\n",
       "  </tbody>\n",
       "</table>\n",
       "</div>"
      ],
      "text/plain": [
       "    image_id                                         question  \\\n",
       "0     458752        What is this photo taken looking through?   \n",
       "1     458752               What position is this man playing?   \n",
       "2     458752                 What color is the players shirt?   \n",
       "3     458752      Is this man a professional baseball player?   \n",
       "4     262146                          What color is the snow?   \n",
       "5     262146                        What is the person doing?   \n",
       "6     262146              What color is the persons headwear?   \n",
       "7     524291                    What is in the person's hand?   \n",
       "8     524291                              Is the dog waiting?   \n",
       "9     524291  Is the dog looking at a tennis ball or frisbee?   \n",
       "10    393221                                 Is the sky blue?   \n",
       "11    393221                  Is there snow on the mountains?   \n",
       "12    393221                        What is the white streak?   \n",
       "13    393223                              Is the window open?   \n",
       "14    393223                    What color is the toothbrush?   \n",
       "15    393223                         What is the child doing?   \n",
       "16    393223                                 Is she brushing?   \n",
       "17    393224                              Is the man smiling?   \n",
       "18    393224   What is the business man doing in the picture?   \n",
       "19    393224            Does his tie pair well with his suit?   \n",
       "\n",
       "              answer  train_val_test  \n",
       "0                net               0  \n",
       "1            pitcher               0  \n",
       "2             orange               0  \n",
       "3                yes               0  \n",
       "4              white               0  \n",
       "5             skiing               0  \n",
       "6                red               0  \n",
       "7            frisbee               0  \n",
       "8                yes               0  \n",
       "9            frisbee               0  \n",
       "10               yes               0  \n",
       "11               yes               0  \n",
       "12          contrail               0  \n",
       "13               yes               0  \n",
       "14  white and purple               0  \n",
       "15    brushing teeth               0  \n",
       "16               yes               0  \n",
       "17                no               0  \n",
       "18          frowning               0  \n",
       "19                no               0  "
      ]
     },
     "execution_count": 20,
     "metadata": {},
     "output_type": "execute_result"
    }
   ],
   "source": [
    "data_train=pd.read_csv(\"data_train.csv\")\n",
    "data_val=pd.read_csv(\"data_val.csv\")\n",
    "data_test=pd.read_csv(\"data_test.csv\")\n",
    "\n",
    "data_complete = pd.concat([data_train, data_val.reindex(columns=data_train.columns)])\n",
    "data_complete = pd.concat([data_complete, data_test.reindex(columns=data_complete.columns)])\n",
    "data_complete.to_csv(\"data_complete.csv\",index=False)\n",
    "#temp_DataSet=temp_DataSet.drop(\"index\",axis=1)\n",
    "data_complete.head(20)"
   ]
  },
  {
   "cell_type": "markdown",
   "metadata": {},
   "source": [
    "## Free the memory"
   ]
  },
  {
   "cell_type": "code",
   "execution_count": 21,
   "metadata": {},
   "outputs": [
    {
     "data": {
      "text/plain": [
       "20"
      ]
     },
     "execution_count": 21,
     "metadata": {},
     "output_type": "execute_result"
    }
   ],
   "source": [
    "ques = []\n",
    "questions = []\n",
    "qa = []\n",
    "annotations = []\n",
    "qRelation=[]\n",
    "\n",
    "quesV = []\n",
    "questionsV = []\n",
    "qaV = []\n",
    "annotationsV = []\n",
    "qRelationV=[]\n",
    "gc.collect()"
   ]
  },
  {
   "cell_type": "code",
   "execution_count": null,
   "metadata": {},
   "outputs": [],
   "source": []
  },
  {
   "cell_type": "markdown",
   "metadata": {},
   "source": [
    "# Start prepare the Data for the training"
   ]
  },
  {
   "cell_type": "code",
   "execution_count": 22,
   "metadata": {},
   "outputs": [],
   "source": [
    "data=pd.read_csv(\"data_complete.csv\")\n"
   ]
  },
  {
   "cell_type": "markdown",
   "metadata": {},
   "source": [
    "## Define the number of classes for answer"
   ]
  },
  {
   "cell_type": "code",
   "execution_count": 23,
   "metadata": {},
   "outputs": [],
   "source": [
    "num_classes=2000"
   ]
  },
  {
   "cell_type": "markdown",
   "metadata": {},
   "source": [
    "## Tokenization of questions. "
   ]
  },
  {
   "cell_type": "code",
   "execution_count": 24,
   "metadata": {},
   "outputs": [],
   "source": [
    "maxlen = 23  # We will cut question after 23 words. So actually we are cutting nothing. \n",
    "            #The longest question is exactly 23 tokens long.\n",
    "\n"
   ]
  },
  {
   "cell_type": "code",
   "execution_count": 25,
   "metadata": {},
   "outputs": [
    {
     "name": "stdout",
     "output_type": "stream",
     "text": [
      "Found 18702 unique tokens.\n"
     ]
    }
   ],
   "source": [
    "tokenizer = Tokenizer(lower=True)\n",
    "tokenizer.fit_on_texts(data[\"question\"])\n",
    "sequences = tokenizer.texts_to_sequences(data[\"question\"].tolist())\n",
    "word_index = tokenizer.word_index\n",
    "tokenizer.oov_token\n",
    "print('Found %s unique tokens.' % len(word_index))"
   ]
  },
  {
   "cell_type": "code",
   "execution_count": null,
   "metadata": {},
   "outputs": [],
   "source": []
  },
  {
   "cell_type": "code",
   "execution_count": 26,
   "metadata": {},
   "outputs": [
    {
     "data": {
      "text/plain": [
       "(1105904, 23)"
      ]
     },
     "execution_count": 26,
     "metadata": {},
     "output_type": "execute_result"
    }
   ],
   "source": [
    "questions = pad_sequences(sequences)\n",
    "questions.shape"
   ]
  },
  {
   "cell_type": "code",
   "execution_count": null,
   "metadata": {},
   "outputs": [],
   "source": []
  },
  {
   "cell_type": "code",
   "execution_count": 27,
   "metadata": {},
   "outputs": [
    {
     "name": "stdout",
     "output_type": "stream",
     "text": [
      "Found 62 unique tokens.\n"
     ]
    }
   ],
   "source": [
    "tokenizer_char = Tokenizer(lower=True,char_level=True)\n",
    "tokenizer_char.fit_on_texts(data[\"question\"])\n",
    "sequences_char = tokenizer_char.texts_to_sequences(data[\"question\"].tolist())\n",
    "word_index = tokenizer_char.word_index\n",
    "tokenizer_char.oov_token\n",
    "print('Found %s unique tokens.' % len(word_index))"
   ]
  },
  {
   "cell_type": "code",
   "execution_count": 28,
   "metadata": {},
   "outputs": [
    {
     "data": {
      "text/plain": [
       "(1105904, 100)"
      ]
     },
     "execution_count": 28,
     "metadata": {},
     "output_type": "execute_result"
    }
   ],
   "source": [
    "questions_char = pad_sequences(sequences_char)\n",
    "questions_char.shape"
   ]
  },
  {
   "cell_type": "markdown",
   "metadata": {},
   "source": [
    "## Tokenization of answers and one-hot encoding"
   ]
  },
  {
   "cell_type": "markdown",
   "metadata": {},
   "source": [
    "### one-hot encoding (switsched off because of huge ammount of memory needed)"
   ]
  },
  {
   "cell_type": "code",
   "execution_count": 29,
   "metadata": {},
   "outputs": [
    {
     "data": {
      "text/html": [
       "<div>\n",
       "<style scoped>\n",
       "    .dataframe tbody tr th:only-of-type {\n",
       "        vertical-align: middle;\n",
       "    }\n",
       "\n",
       "    .dataframe tbody tr th {\n",
       "        vertical-align: top;\n",
       "    }\n",
       "\n",
       "    .dataframe thead th {\n",
       "        text-align: right;\n",
       "    }\n",
       "</style>\n",
       "<table border=\"1\" class=\"dataframe\">\n",
       "  <thead>\n",
       "    <tr style=\"text-align: right;\">\n",
       "      <th></th>\n",
       "      <th>image_id</th>\n",
       "      <th>question</th>\n",
       "      <th>answer</th>\n",
       "      <th>train_val_test</th>\n",
       "    </tr>\n",
       "  </thead>\n",
       "  <tbody>\n",
       "    <tr>\n",
       "      <th>0</th>\n",
       "      <td>458752</td>\n",
       "      <td>What is this photo taken looking through?</td>\n",
       "      <td>net</td>\n",
       "      <td>0</td>\n",
       "    </tr>\n",
       "    <tr>\n",
       "      <th>1</th>\n",
       "      <td>458752</td>\n",
       "      <td>What position is this man playing?</td>\n",
       "      <td>pitcher</td>\n",
       "      <td>0</td>\n",
       "    </tr>\n",
       "    <tr>\n",
       "      <th>2</th>\n",
       "      <td>458752</td>\n",
       "      <td>What color is the players shirt?</td>\n",
       "      <td>orange</td>\n",
       "      <td>0</td>\n",
       "    </tr>\n",
       "    <tr>\n",
       "      <th>3</th>\n",
       "      <td>458752</td>\n",
       "      <td>Is this man a professional baseball player?</td>\n",
       "      <td>yes</td>\n",
       "      <td>0</td>\n",
       "    </tr>\n",
       "    <tr>\n",
       "      <th>4</th>\n",
       "      <td>262146</td>\n",
       "      <td>What color is the snow?</td>\n",
       "      <td>white</td>\n",
       "      <td>0</td>\n",
       "    </tr>\n",
       "    <tr>\n",
       "      <th>5</th>\n",
       "      <td>262146</td>\n",
       "      <td>What is the person doing?</td>\n",
       "      <td>skiing</td>\n",
       "      <td>0</td>\n",
       "    </tr>\n",
       "    <tr>\n",
       "      <th>6</th>\n",
       "      <td>262146</td>\n",
       "      <td>What color is the persons headwear?</td>\n",
       "      <td>red</td>\n",
       "      <td>0</td>\n",
       "    </tr>\n",
       "    <tr>\n",
       "      <th>7</th>\n",
       "      <td>524291</td>\n",
       "      <td>What is in the person's hand?</td>\n",
       "      <td>frisbee</td>\n",
       "      <td>0</td>\n",
       "    </tr>\n",
       "    <tr>\n",
       "      <th>8</th>\n",
       "      <td>524291</td>\n",
       "      <td>Is the dog waiting?</td>\n",
       "      <td>yes</td>\n",
       "      <td>0</td>\n",
       "    </tr>\n",
       "    <tr>\n",
       "      <th>9</th>\n",
       "      <td>524291</td>\n",
       "      <td>Is the dog looking at a tennis ball or frisbee?</td>\n",
       "      <td>frisbee</td>\n",
       "      <td>0</td>\n",
       "    </tr>\n",
       "    <tr>\n",
       "      <th>10</th>\n",
       "      <td>393221</td>\n",
       "      <td>Is the sky blue?</td>\n",
       "      <td>yes</td>\n",
       "      <td>0</td>\n",
       "    </tr>\n",
       "    <tr>\n",
       "      <th>11</th>\n",
       "      <td>393221</td>\n",
       "      <td>Is there snow on the mountains?</td>\n",
       "      <td>yes</td>\n",
       "      <td>0</td>\n",
       "    </tr>\n",
       "    <tr>\n",
       "      <th>12</th>\n",
       "      <td>393221</td>\n",
       "      <td>What is the white streak?</td>\n",
       "      <td>contrail</td>\n",
       "      <td>0</td>\n",
       "    </tr>\n",
       "    <tr>\n",
       "      <th>13</th>\n",
       "      <td>393223</td>\n",
       "      <td>Is the window open?</td>\n",
       "      <td>yes</td>\n",
       "      <td>0</td>\n",
       "    </tr>\n",
       "    <tr>\n",
       "      <th>14</th>\n",
       "      <td>393223</td>\n",
       "      <td>What color is the toothbrush?</td>\n",
       "      <td>white_and_purple</td>\n",
       "      <td>0</td>\n",
       "    </tr>\n",
       "    <tr>\n",
       "      <th>15</th>\n",
       "      <td>393223</td>\n",
       "      <td>What is the child doing?</td>\n",
       "      <td>brushing_teeth</td>\n",
       "      <td>0</td>\n",
       "    </tr>\n",
       "    <tr>\n",
       "      <th>16</th>\n",
       "      <td>393223</td>\n",
       "      <td>Is she brushing?</td>\n",
       "      <td>yes</td>\n",
       "      <td>0</td>\n",
       "    </tr>\n",
       "    <tr>\n",
       "      <th>17</th>\n",
       "      <td>393224</td>\n",
       "      <td>Is the man smiling?</td>\n",
       "      <td>no</td>\n",
       "      <td>0</td>\n",
       "    </tr>\n",
       "    <tr>\n",
       "      <th>18</th>\n",
       "      <td>393224</td>\n",
       "      <td>What is the business man doing in the picture?</td>\n",
       "      <td>frowning</td>\n",
       "      <td>0</td>\n",
       "    </tr>\n",
       "    <tr>\n",
       "      <th>19</th>\n",
       "      <td>393224</td>\n",
       "      <td>Does his tie pair well with his suit?</td>\n",
       "      <td>no</td>\n",
       "      <td>0</td>\n",
       "    </tr>\n",
       "  </tbody>\n",
       "</table>\n",
       "</div>"
      ],
      "text/plain": [
       "    image_id                                         question  \\\n",
       "0     458752        What is this photo taken looking through?   \n",
       "1     458752               What position is this man playing?   \n",
       "2     458752                 What color is the players shirt?   \n",
       "3     458752      Is this man a professional baseball player?   \n",
       "4     262146                          What color is the snow?   \n",
       "5     262146                        What is the person doing?   \n",
       "6     262146              What color is the persons headwear?   \n",
       "7     524291                    What is in the person's hand?   \n",
       "8     524291                              Is the dog waiting?   \n",
       "9     524291  Is the dog looking at a tennis ball or frisbee?   \n",
       "10    393221                                 Is the sky blue?   \n",
       "11    393221                  Is there snow on the mountains?   \n",
       "12    393221                        What is the white streak?   \n",
       "13    393223                              Is the window open?   \n",
       "14    393223                    What color is the toothbrush?   \n",
       "15    393223                         What is the child doing?   \n",
       "16    393223                                 Is she brushing?   \n",
       "17    393224                              Is the man smiling?   \n",
       "18    393224   What is the business man doing in the picture?   \n",
       "19    393224            Does his tie pair well with his suit?   \n",
       "\n",
       "              answer  train_val_test  \n",
       "0                net               0  \n",
       "1            pitcher               0  \n",
       "2             orange               0  \n",
       "3                yes               0  \n",
       "4              white               0  \n",
       "5             skiing               0  \n",
       "6                red               0  \n",
       "7            frisbee               0  \n",
       "8                yes               0  \n",
       "9            frisbee               0  \n",
       "10               yes               0  \n",
       "11               yes               0  \n",
       "12          contrail               0  \n",
       "13               yes               0  \n",
       "14  white_and_purple               0  \n",
       "15    brushing_teeth               0  \n",
       "16               yes               0  \n",
       "17                no               0  \n",
       "18          frowning               0  \n",
       "19                no               0  "
      ]
     },
     "execution_count": 29,
     "metadata": {},
     "output_type": "execute_result"
    }
   ],
   "source": [
    "data[\"answer\"]=data[\"answer\"].str.replace(' ','_')\n",
    "data=data[data[\"answer\"]!=\"NO_ANSWER\"]\n",
    "data.head(20)"
   ]
  },
  {
   "cell_type": "code",
   "execution_count": 30,
   "metadata": {},
   "outputs": [
    {
     "name": "stdout",
     "output_type": "stream",
     "text": [
      "Found 28604 unique tokens.\n"
     ]
    },
    {
     "data": {
      "text/plain": [
       "(658111, 2000)"
      ]
     },
     "execution_count": 30,
     "metadata": {},
     "output_type": "execute_result"
    }
   ],
   "source": [
    "tokenizer_onehot = Tokenizer(lower=True,num_words=num_classes,filters='!\"#$%&()*+, -./:;<=>?@[\\\\]^`{|}~\\t\\n')\n",
    "tokenizer_onehot.fit_on_texts(data[\"answer\"].astype(str))\n",
    "word_index = tokenizer_onehot.word_index\n",
    "#print(word_index)\n",
    "print('Found %s unique tokens.' % len(word_index))\n",
    "\n",
    "answersOneHot = tokenizer_onehot.texts_to_matrix(data[\"answer\"][data[\"answer\"]!=\"NO_ANSWER\"].astype(str).tolist())\n",
    "answersOneHot.shape  #!!!!!!!!!!!!!!!!!!!!!!!!!!!!!!!"
   ]
  },
  {
   "cell_type": "code",
   "execution_count": 31,
   "metadata": {},
   "outputs": [
    {
     "data": {
      "text/plain": [
       "array([0., 0., 0., ..., 0., 0., 0.])"
      ]
     },
     "execution_count": 31,
     "metadata": {},
     "output_type": "execute_result"
    }
   ],
   "source": [
    "answersOneHot[1100]"
   ]
  },
  {
   "cell_type": "markdown",
   "metadata": {},
   "source": [
    "## Save tokenizer"
   ]
  },
  {
   "cell_type": "code",
   "execution_count": 32,
   "metadata": {},
   "outputs": [
    {
     "name": "stdout",
     "output_type": "stream",
     "text": [
      "Saved: tokenizer2000.pickle\n"
     ]
    }
   ],
   "source": [
    "save_clean_data(tokenizer,\"tokenizer\"+str(num_classes)+\".pickle\")"
   ]
  },
  {
   "cell_type": "code",
   "execution_count": 33,
   "metadata": {},
   "outputs": [
    {
     "name": "stdout",
     "output_type": "stream",
     "text": [
      "Saved: tokenizer_char2000.pickle\n"
     ]
    }
   ],
   "source": [
    "save_clean_data(tokenizer_char,\"tokenizer_char\"+str(num_classes)+\".pickle\")"
   ]
  },
  {
   "cell_type": "code",
   "execution_count": 34,
   "metadata": {},
   "outputs": [
    {
     "name": "stdout",
     "output_type": "stream",
     "text": [
      "Saved: tokenizer_onehot2000.pickle\n"
     ]
    }
   ],
   "source": [
    "save_clean_data(tokenizer_onehot,\"tokenizer_onehot\"+str(num_classes)+\".pickle\")"
   ]
  },
  {
   "cell_type": "markdown",
   "metadata": {},
   "source": [
    "### word-to-vec"
   ]
  },
  {
   "cell_type": "markdown",
   "metadata": {},
   "source": [
    "#### Answer also can be presented as vector in GloVe vectorspace, but for firs experiment it wasn't used "
   ]
  },
  {
   "cell_type": "raw",
   "metadata": {},
   "source": [
    "nlp = spacy.load('en_core_web_lg')"
   ]
  },
  {
   "cell_type": "raw",
   "metadata": {
    "jupyter": {
     "outputs_hidden": true
    }
   },
   "source": [
    "columns=[i for i in range(300)]\n",
    "output = StringIO()\n",
    "csv_writer = writer(output)\n",
    "csv_writer.writerow(columns)\n",
    "for i,entry in enumerate(data[\"answer\"].astype(str)):\n",
    "    if i%15000==0:\n",
    "        print (i,\"von\",len(data[\"answer\"]))\n",
    "    try:\n",
    "        #doc = nlp(entry.lower())\n",
    "        doc = nlp(entry)\n",
    "    except:\n",
    "        doc = nlp(entry)\n",
    "        print(entry)\n",
    "    csv_writer.writerow(doc.vector)\n",
    "    #answers.loc[len(answers)] = doc.vector\n",
    "output.seek(0)\n",
    "answers = pd.read_csv(output)"
   ]
  },
  {
   "cell_type": "raw",
   "metadata": {},
   "source": [
    "answers.head(20)\n",
    "len(doc.vector)"
   ]
  },
  {
   "cell_type": "markdown",
   "metadata": {},
   "source": [
    "### Create trainings data. If answer is OOV, the row will be passed."
   ]
  },
  {
   "cell_type": "code",
   "execution_count": 35,
   "metadata": {},
   "outputs": [
    {
     "name": "stdout",
     "output_type": "stream",
     "text": [
      "0 von 658111\n",
      "35000 von 658111\n",
      "70000 von 658111\n",
      "175000 von 658111\n",
      "210000 von 658111\n",
      "245000 von 658111\n",
      "280000 von 658111\n",
      "315000 von 658111\n",
      "350000 von 658111\n",
      "385000 von 658111\n",
      "420000 von 658111\n",
      "455000 von 658111\n",
      "490000 von 658111\n",
      "525000 von 658111\n",
      "560000 von 658111\n",
      "630000 von 658111\n"
     ]
    },
    {
     "data": {
      "text/plain": [
       "0"
      ]
     },
     "execution_count": 35,
     "metadata": {},
     "output_type": "execute_result"
    }
   ],
   "source": [
    "imgIds=np.asarray(data[\"image_id\"])\n",
    "quesOutput = StringIO()\n",
    "ques_charOutput = StringIO()\n",
    "imIdsOutput = StringIO()\n",
    "#ansOnehotOutput= StringIO()\n",
    "ansArgMaxOutput= StringIO()\n",
    "\n",
    "\n",
    "csv_writerQues = writer(quesOutput)\n",
    "csv_writer_charQues = writer(ques_charOutput)\n",
    "csv_writerImIds = writer(imIdsOutput)\n",
    "#csv_writerAnsOnehot = writer(ansOnehotOutput)\n",
    "csv_writerAnsArgMax = writer(ansArgMaxOutput)\n",
    "\n",
    "csv_writerQues.writerow([0,1,2,3,4,5,6,7,8,9,10,11,12,13,14,15,16,17,18,19,20,21,22])\n",
    "csv_writer_charQues.writerow([ x for x in range(100) ])\n",
    "csv_writerImIds.writerow([\"imgIds\"])\n",
    "#csv_writerAnsOnehot.writerow([x for x in range(num_classes)])\n",
    "csv_writerAnsArgMax.writerow([\"answer\"])  \n",
    "counter=0\n",
    "for i in range(int(len(answersOneHot))): #TODO implement Progressbar\n",
    "    #if data[\"train_val_test\"].loc[i]==1:\n",
    "    #    print(\"trainSet end: \",counter)\n",
    "    if \"\"==tokenizer_onehot.sequences_to_texts([[np.argmax(answersOneHot[i])]])[0]:\n",
    "        continue\n",
    "    if i%35000==0:\n",
    "        print (i,\"von\",len(answersOneHot))\n",
    "    counter+=1\n",
    "    csv_writerQues.writerow(questions[i])\n",
    "    csv_writer_charQues.writerow(questions_char[i])\n",
    "    csv_writerImIds.writerow([imgIds[i]])\n",
    "    #csv_writerAnsOnehot.writerow(answersOneHot[i].astype(int))\n",
    "    csv_writerAnsArgMax.writerow([np.argmax(answersOneHot[i].astype(int))])    \n",
    "\n",
    "quesOutput.seek(0)\n",
    "ques_charOutput.seek(0)\n",
    "imIdsOutput.seek(0)\n",
    "#ansOnehotOutput.seek(0)\n",
    "ansArgMaxOutput.seek(0)\n",
    "\n"
   ]
  },
  {
   "cell_type": "code",
   "execution_count": 36,
   "metadata": {},
   "outputs": [
    {
     "name": "stdout",
     "output_type": "stream",
     "text": [
      "(658111, 4) (658111,) (1105904, 23) (1105904, 100)\n"
     ]
    }
   ],
   "source": [
    "print (data.shape,imgIds.shape,questions.shape,questions_char.shape)"
   ]
  },
  {
   "cell_type": "markdown",
   "metadata": {},
   "source": [
    "### Saving the results"
   ]
  },
  {
   "cell_type": "code",
   "execution_count": 37,
   "metadata": {},
   "outputs": [
    {
     "name": "stdout",
     "output_type": "stream",
     "text": [
      "Saved: questions2000.pickle\n"
     ]
    }
   ],
   "source": [
    "questions=pd.read_csv(quesOutput)\n",
    "#pd.DataFrame(answersOneHot).to_csv(\"questions.csv\",index=False)\n",
    "save_clean_data(questions,\"questions\"+str(num_classes)+\".pickle\")\n",
    "questions=[]"
   ]
  },
  {
   "cell_type": "code",
   "execution_count": 38,
   "metadata": {},
   "outputs": [
    {
     "name": "stdout",
     "output_type": "stream",
     "text": [
      "Saved: questions_char2000.pickle\n"
     ]
    }
   ],
   "source": [
    "questions_char=pd.read_csv(ques_charOutput)\n",
    "#pd.DataFrame(answersOneHot).to_csv(\"questions.csv\",index=False)\n",
    "save_clean_data(questions_char,\"questions_char\"+str(num_classes)+\".pickle\")\n",
    "questions=[]"
   ]
  },
  {
   "cell_type": "code",
   "execution_count": 39,
   "metadata": {},
   "outputs": [
    {
     "name": "stdout",
     "output_type": "stream",
     "text": [
      "Saved: imageIds2000.pickle\n"
     ]
    }
   ],
   "source": [
    "#save_clean_data(np.asarray(answers),\"answers.pickle\")\n",
    "imgIds = pd.read_csv(imIdsOutput)\n",
    "#pd.DataFrame(imgIds).to_csv(\"imgIds.csv\",index=False)\n",
    "save_clean_data(imgIds,\"imageIds\"+str(num_classes)+\".pickle\")\n",
    "imgIds=[]"
   ]
  },
  {
   "cell_type": "code",
   "execution_count": 40,
   "metadata": {},
   "outputs": [],
   "source": [
    "answersArgMax=pd.read_csv(ansArgMaxOutput)\n",
    "pd.DataFrame(answersArgMax).to_csv(\"answersArgMax\"+str(num_classes)+\".csv\",index=False)"
   ]
  },
  {
   "cell_type": "code",
   "execution_count": 41,
   "metadata": {},
   "outputs": [
    {
     "data": {
      "text/plain": [
       "120"
      ]
     },
     "execution_count": 41,
     "metadata": {},
     "output_type": "execute_result"
    }
   ],
   "source": [
    "gc.collect()\n",
    "#answersOneHot=pd.read_csv(ansOnehotOutput)\n",
    "#save_clean_data(np.asarray(answersOneHot),\"answersOneHot\"+str(num_classes)+\".pickle\") #!!!!!!!!!!!!!!!!!"
   ]
  },
  {
   "cell_type": "code",
   "execution_count": 42,
   "metadata": {},
   "outputs": [],
   "source": [
    "#pd.DataFrame(answersOneHot).to_csv(\"answersOneHot\"+str(num_classes)+\".csv\",index=False)"
   ]
  },
  {
   "cell_type": "code",
   "execution_count": null,
   "metadata": {},
   "outputs": [],
   "source": []
  },
  {
   "cell_type": "markdown",
   "metadata": {},
   "source": [
    "# Check saved data"
   ]
  },
  {
   "cell_type": "markdown",
   "metadata": {},
   "source": [
    "## Load prepared data"
   ]
  },
  {
   "cell_type": "code",
   "execution_count": 67,
   "metadata": {},
   "outputs": [],
   "source": [
    "num_classes=2000\n",
    "file= open(\"questions\"+str(num_classes)+\".pickle\",\"rb\")\n",
    "questions=pickle.load(file)\n",
    "file.close()"
   ]
  },
  {
   "cell_type": "code",
   "execution_count": 68,
   "metadata": {},
   "outputs": [],
   "source": [
    "file= open(\"questions_char\"+str(num_classes)+\".pickle\",\"rb\")\n",
    "questions_char=pickle.load(file)\n",
    "file.close()"
   ]
  },
  {
   "cell_type": "code",
   "execution_count": 69,
   "metadata": {},
   "outputs": [],
   "source": [
    "file= open(\"imageIds\"+str(num_classes)+\".pickle\",\"rb\")\n",
    "imgIds=pickle.load(file)\n",
    "file.close()"
   ]
  },
  {
   "cell_type": "code",
   "execution_count": 70,
   "metadata": {},
   "outputs": [],
   "source": [
    "#data=pd.read_csv(\"answersOneHot\"+str(num_classes)+\".csv\")#,header=None)\n"
   ]
  },
  {
   "cell_type": "code",
   "execution_count": 71,
   "metadata": {},
   "outputs": [],
   "source": [
    "dataArgMax=pd.read_csv(\"answersArgMax\"+str(num_classes)+\".csv\")#,header=None)"
   ]
  },
  {
   "cell_type": "markdown",
   "metadata": {},
   "source": [
    "## Load tokenizers"
   ]
  },
  {
   "cell_type": "code",
   "execution_count": 72,
   "metadata": {},
   "outputs": [],
   "source": [
    "file= open(\"tokenizer\"+str(num_classes)+\".pickle\",\"rb\")\n",
    "tokenizer=pickle.load(file)\n",
    "file.close()"
   ]
  },
  {
   "cell_type": "code",
   "execution_count": 73,
   "metadata": {},
   "outputs": [],
   "source": [
    "file= open(\"tokenizer_char\"+str(num_classes)+\".pickle\",\"rb\")\n",
    "tokenizer_char=pickle.load(file)\n",
    "file.close()"
   ]
  },
  {
   "cell_type": "code",
   "execution_count": 74,
   "metadata": {},
   "outputs": [],
   "source": [
    "file= open(\"tokenizer_onehot\"+str(num_classes)+\".pickle\",\"rb\")\n",
    "tokenizer_onehot=pickle.load(file)\n",
    "file.close()"
   ]
  },
  {
   "cell_type": "markdown",
   "metadata": {},
   "source": [
    "## Test of training set\n"
   ]
  },
  {
   "cell_type": "code",
   "execution_count": 121,
   "metadata": {},
   "outputs": [],
   "source": [
    "num =406743#for 2000\n",
    "#num= 389974 #for 1000\n",
    "perfix=\"../VQA_data/trainSet/train2014/COCO_train2014_000000\"\n",
    "#perfix=\"../VQA_data/validationSet/val2014/COCO_val2014_000000\""
   ]
  },
  {
   "cell_type": "code",
   "execution_count": 122,
   "metadata": {},
   "outputs": [
    {
     "name": "stdout",
     "output_type": "stream",
     "text": [
      "../VQA_data/trainSet/train2014/COCO_train2014_000000524286.jpg\n"
     ]
    },
    {
     "data": {
      "text/plain": [
       "<matplotlib.image.AxesImage at 0x7ff6534a0610>"
      ]
     },
     "execution_count": 122,
     "metadata": {},
     "output_type": "execute_result"
    },
    {
     "data": {
      "image/png": "[encoded data removed]",
      "text/plain": [
       "<Figure size 432x288 with 1 Axes>"
      ]
     },
     "metadata": {
      "needs_background": "light"
     },
     "output_type": "display_data"
    }
   ],
   "source": [
    "img = cv2.imread(perfix+str(imgIds.loc[num].values[0]).zfill(6)+\".jpg\")\n",
    "print(perfix+str(imgIds.loc[num].values[0]).zfill(6)+\".jpg\")\n",
    "#img = cv2.resize(img, network_size)\n",
    "img = cv2.cvtColor(img, cv2.COLOR_RGB2BGR)\n",
    "plt.imshow(img)"
   ]
  },
  {
   "cell_type": "code",
   "execution_count": 123,
   "metadata": {},
   "outputs": [
    {
     "name": "stdout",
     "output_type": "stream",
     "text": [
      "question: ['is that a laptop']\n"
     ]
    }
   ],
   "source": [
    "print(\"question:\",tokenizer.sequences_to_texts([questions.loc[num].values]))"
   ]
  },
  {
   "cell_type": "code",
   "execution_count": 124,
   "metadata": {},
   "outputs": [
    {
     "name": "stdout",
     "output_type": "stream",
     "text": [
      "question_char: ['i s   t h a t   a   l a p t o p ?']\n"
     ]
    }
   ],
   "source": [
    "print(\"question_char:\",tokenizer_char.sequences_to_texts([questions_char.loc[num].values]))"
   ]
  },
  {
   "cell_type": "code",
   "execution_count": 125,
   "metadata": {},
   "outputs": [],
   "source": [
    "#print(\"answer:\",tokenizer_onehot.sequences_to_texts([[int(np.argmax(data.loc[num]))]]))"
   ]
  },
  {
   "cell_type": "code",
   "execution_count": 126,
   "metadata": {},
   "outputs": [
    {
     "name": "stdout",
     "output_type": "stream",
     "text": [
      "answerArgMax: ['yes']\n"
     ]
    }
   ],
   "source": [
    "print(\"answerArgMax:\",tokenizer_onehot.sequences_to_texts([dataArgMax.loc[num]]))"
   ]
  },
  {
   "cell_type": "markdown",
   "metadata": {},
   "source": [
    "## Test of validation set"
   ]
  },
  {
   "cell_type": "code",
   "execution_count": 127,
   "metadata": {},
   "outputs": [],
   "source": [
    "num =406744#for 2000\n",
    "#num= 389975 #for 1000\n",
    "\n",
    "#perfix=\"../VQA_data/trainSet/train2014/COCO_train2014_000000\"\n",
    "perfix=\"../VQA_data/validationSet/val2014/COCO_val2014_000000\""
   ]
  },
  {
   "cell_type": "code",
   "execution_count": 128,
   "metadata": {},
   "outputs": [
    {
     "name": "stdout",
     "output_type": "stream",
     "text": [
      "../VQA_data/validationSet/val2014/COCO_val2014_000000262148.jpg\n"
     ]
    },
    {
     "data": {
      "text/plain": [
       "<matplotlib.image.AxesImage at 0x7ff652c70d30>"
      ]
     },
     "execution_count": 128,
     "metadata": {},
     "output_type": "execute_result"
    },
    {
     "data": {
      "image/png": "[encoded data removed]",
      "text/plain": [
       "<Figure size 432x288 with 1 Axes>"
      ]
     },
     "metadata": {
      "needs_background": "light"
     },
     "output_type": "display_data"
    }
   ],
   "source": [
    "img = cv2.imread(perfix+str(imgIds.loc[num].values[0]).zfill(6)+\".jpg\")\n",
    "print(perfix+str(imgIds.loc[num].values[0]).zfill(6)+\".jpg\")\n",
    "img = cv2.cvtColor(img, cv2.COLOR_RGB2BGR)\n",
    "plt.imshow(img)"
   ]
  },
  {
   "cell_type": "code",
   "execution_count": 129,
   "metadata": {},
   "outputs": [
    {
     "name": "stdout",
     "output_type": "stream",
     "text": [
      "question: ['where is he looking']\n"
     ]
    }
   ],
   "source": [
    "print(\"question:\",tokenizer.sequences_to_texts([questions.loc[num].values]))"
   ]
  },
  {
   "cell_type": "code",
   "execution_count": 130,
   "metadata": {},
   "outputs": [
    {
     "name": "stdout",
     "output_type": "stream",
     "text": [
      "question_char: ['w h e r e   i s   h e   l o o k i n g ?']\n"
     ]
    }
   ],
   "source": [
    "print(\"question_char:\",tokenizer_char.sequences_to_texts([questions_char.loc[num].values]))"
   ]
  },
  {
   "cell_type": "code",
   "execution_count": 131,
   "metadata": {},
   "outputs": [],
   "source": [
    "#print(\"answer:\",tokenizer_onehot.sequences_to_texts([[int(np.argmax(data.loc[num]))]]))"
   ]
  },
  {
   "cell_type": "code",
   "execution_count": 132,
   "metadata": {},
   "outputs": [
    {
     "name": "stdout",
     "output_type": "stream",
     "text": [
      "answerArgMax: ['down']\n"
     ]
    }
   ],
   "source": [
    "print(\"answerArgMax:\",tokenizer_onehot.sequences_to_texts([dataArgMax.loc[num]]))"
   ]
  },
  {
   "cell_type": "code",
   "execution_count": 133,
   "metadata": {},
   "outputs": [
    {
     "data": {
      "text/plain": [
       "{1: 'no',\n",
       " 2: 'yes',\n",
       " 3: '2',\n",
       " 4: '1',\n",
       " 5: 'white',\n",
       " 6: '3',\n",
       " 7: 'red',\n",
       " 8: 'blue',\n",
       " 9: 'black',\n",
       " 10: '0',\n",
       " 11: '4',\n",
       " 12: 'green',\n",
       " 13: 'brown',\n",
       " 14: 'yellow',\n",
       " 15: '5',\n",
       " 16: 'gray',\n",
       " 17: '6',\n",
       " 18: 'nothing',\n",
       " 19: 'left',\n",
       " 20: 'right',\n",
       " 21: 'frisbee',\n",
       " 22: 'baseball',\n",
       " 23: 'tennis',\n",
       " 24: 'orange',\n",
       " 25: 'wood',\n",
       " 26: 'pizza',\n",
       " 27: 'bathroom',\n",
       " 28: 'none',\n",
       " 29: '10',\n",
       " 30: 'pink',\n",
       " 31: 'kitchen',\n",
       " 32: '8',\n",
       " 33: '7',\n",
       " 34: 'man',\n",
       " 35: 'cat',\n",
       " 36: 'grass',\n",
       " 37: 'water',\n",
       " 38: 'dog',\n",
       " 39: 'black_and_white',\n",
       " 40: 'skiing',\n",
       " 41: 'skateboarding',\n",
       " 42: 'silver',\n",
       " 43: '12',\n",
       " 44: 'kite',\n",
       " 45: 'surfing',\n",
       " 46: 'horse',\n",
       " 47: 'living_room',\n",
       " 48: '9',\n",
       " 49: 'skateboard',\n",
       " 50: 'phone',\n",
       " 51: 'snow',\n",
       " 52: 'giraffe',\n",
       " 53: 'wii',\n",
       " 54: 'cake',\n",
       " 55: 'surfboard',\n",
       " 56: 'broccoli',\n",
       " 57: 'woman',\n",
       " 58: 'table',\n",
       " 59: 'food',\n",
       " 60: 'eating',\n",
       " 61: 'sunny',\n",
       " 62: 'apple',\n",
       " 63: 'stop',\n",
       " 64: '20',\n",
       " 65: 'purple',\n",
       " 66: 'hat',\n",
       " 67: 'elephant',\n",
       " 68: 'train',\n",
       " 69: 'laptop',\n",
       " 70: 'standing',\n",
       " 71: 'motorcycle',\n",
       " 72: 'beach',\n",
       " 73: 'soccer',\n",
       " 74: 'bus',\n",
       " 75: '11',\n",
       " 76: 'banana',\n",
       " 77: 'snowboarding',\n",
       " 78: 'sheep',\n",
       " 79: 'tan',\n",
       " 80: 'umbrella',\n",
       " 81: '15',\n",
       " 82: 'cow',\n",
       " 83: 'winter',\n",
       " 84: 'outside',\n",
       " 85: 'trees',\n",
       " 86: 'male',\n",
       " 87: 'wine',\n",
       " 88: 'camera',\n",
       " 89: 'bear',\n",
       " 90: 'flowers',\n",
       " 91: 'sitting',\n",
       " 92: 'metal',\n",
       " 93: 'walking',\n",
       " 94: 'brick',\n",
       " 95: 'tile',\n",
       " 96: 'female',\n",
       " 97: 'plane',\n",
       " 98: 'clear',\n",
       " 99: 'night',\n",
       " 100: 'cloudy',\n",
       " 101: 'car',\n",
       " 102: 'sandwich',\n",
       " 103: 'many',\n",
       " 104: 'bird',\n",
       " 105: '30',\n",
       " 106: 'hot_dog',\n",
       " 107: 'bedroom',\n",
       " 108: 'summer',\n",
       " 109: 'zebra',\n",
       " 110: 'bench',\n",
       " 111: 'donut',\n",
       " 112: 'bed',\n",
       " 113: 'bananas',\n",
       " 114: 'down',\n",
       " 115: '50',\n",
       " 116: 'wall',\n",
       " 117: 'afternoon',\n",
       " 118: 'boat',\n",
       " 119: 'beer',\n",
       " 120: 'fork',\n",
       " 121: 'cheese',\n",
       " 122: 'people',\n",
       " 123: 'street',\n",
       " 124: 'kites',\n",
       " 125: 'bat',\n",
       " 126: 'up',\n",
       " 127: 'tree',\n",
       " 128: 'chair',\n",
       " 129: 'plate',\n",
       " 130: 'fence',\n",
       " 131: 'sand',\n",
       " 132: '25',\n",
       " 133: 'helmet',\n",
       " 134: 'couch',\n",
       " 135: 'tv',\n",
       " 136: 'tennis_racket',\n",
       " 137: 'red_and_white',\n",
       " 138: 'birthday',\n",
       " 139: 'truck',\n",
       " 140: 'cows',\n",
       " 141: 'skis',\n",
       " 142: 'horses',\n",
       " 143: 'nike',\n",
       " 144: 'dirt',\n",
       " 145: 'suitcase',\n",
       " 146: 'glass',\n",
       " 147: 'bike',\n",
       " 148: 'floor',\n",
       " 149: 'airport',\n",
       " 150: 'round',\n",
       " 151: 'ground',\n",
       " 152: 'zoo',\n",
       " 153: 'coffee',\n",
       " 154: 'snowboard',\n",
       " 155: 'knife',\n",
       " 156: 'ocean',\n",
       " 157: 'playing_wii',\n",
       " 158: 'stripes',\n",
       " 159: 'no_one',\n",
       " 160: '13',\n",
       " 161: 'usa',\n",
       " 162: 'ball',\n",
       " 163: 'square',\n",
       " 164: 'fruit',\n",
       " 165: 'english',\n",
       " 166: 'girl',\n",
       " 167: 'sidewalk',\n",
       " 168: 'concrete',\n",
       " 169: 'boy',\n",
       " 170: 'blue_and_white',\n",
       " 171: 'blonde',\n",
       " 172: 'glasses',\n",
       " 173: 'cell_phone',\n",
       " 174: 'teddy_bear',\n",
       " 175: 'plastic',\n",
       " 176: 'fall',\n",
       " 177: 'donuts',\n",
       " 178: 'carrots',\n",
       " 179: 'tie',\n",
       " 180: 'open',\n",
       " 181: 'christmas',\n",
       " 182: 'paper',\n",
       " 183: 'clock',\n",
       " 184: 'flying_kite',\n",
       " 185: 'wii_remote',\n",
       " 186: 'lot',\n",
       " 187: 'park',\n",
       " 188: 'chicken',\n",
       " 189: 'toilet',\n",
       " 190: 'airplane',\n",
       " 191: 'toothbrush',\n",
       " 192: 'oak',\n",
       " 193: '100',\n",
       " 194: 'scissors',\n",
       " 195: '14',\n",
       " 196: 'cold',\n",
       " 197: 'mirror',\n",
       " 198: 'day',\n",
       " 199: 'breakfast',\n",
       " 200: '00',\n",
       " 201: 'building',\n",
       " 202: 'shirt',\n",
       " 203: 'field',\n",
       " 204: 'old',\n",
       " 205: 'nowhere',\n",
       " 206: 'city',\n",
       " 207: 'computer',\n",
       " 208: 'spoon',\n",
       " 209: 'cooking',\n",
       " 210: 'chocolate',\n",
       " 211: 'happy',\n",
       " 212: 'dell',\n",
       " 213: 'plaid',\n",
       " 214: 'palm',\n",
       " 215: 'remote',\n",
       " 216: 'chinese',\n",
       " 217: '40',\n",
       " 218: 'sleeping',\n",
       " 219: 'africa',\n",
       " 220: 'window',\n",
       " 221: 'office',\n",
       " 222: 'rectangle',\n",
       " 223: 'playing',\n",
       " 224: '16',\n",
       " 225: 'on_table',\n",
       " 226: 'mountains',\n",
       " 227: 'carpet',\n",
       " 228: 'restaurant',\n",
       " 229: 'elephants',\n",
       " 230: 'lettuce',\n",
       " 231: 'vegetables',\n",
       " 232: 'light',\n",
       " 233: 'daytime',\n",
       " 234: 'wedding',\n",
       " 235: 'unknown',\n",
       " 236: 'clouds',\n",
       " 237: '55',\n",
       " 238: 'closed',\n",
       " 239: 'sky',\n",
       " 240: '35',\n",
       " 241: 'sun',\n",
       " 242: 'small',\n",
       " 243: 'apples',\n",
       " 244: 'person',\n",
       " 245: 'evening',\n",
       " 246: 'short',\n",
       " 247: 'fire_hydrant',\n",
       " 248: 'ski_poles',\n",
       " 249: 'birds',\n",
       " 250: 'sunglasses',\n",
       " 251: 'stone',\n",
       " 252: 'american',\n",
       " 253: 'mountain',\n",
       " 254: 'tomato',\n",
       " 255: 'beige',\n",
       " 256: 'desk',\n",
       " 257: 'road',\n",
       " 258: 'brown_and_white',\n",
       " 259: 'leaves',\n",
       " 260: 'morning',\n",
       " 261: 'solid',\n",
       " 262: 'asian',\n",
       " 263: 'wetsuit',\n",
       " 264: 'counter',\n",
       " 265: 'home',\n",
       " 266: 'dinner',\n",
       " 267: 'picture',\n",
       " 268: 'inside',\n",
       " 269: 'carrot',\n",
       " 270: 'bicycle',\n",
       " 271: 'shorts',\n",
       " 272: 'pepperoni',\n",
       " 273: 'microwave',\n",
       " 274: 'oranges',\n",
       " 275: 'fish',\n",
       " 276: 'backpack',\n",
       " 277: 'overcast',\n",
       " 278: '18',\n",
       " 279: 'refrigerator',\n",
       " 280: '45',\n",
       " 281: 'house',\n",
       " 282: 'jeans',\n",
       " 283: 'sign',\n",
       " 284: 'graffiti',\n",
       " 285: 'pine',\n",
       " 286: 'london',\n",
       " 287: 'noon',\n",
       " 288: 'bread',\n",
       " 289: 'gold',\n",
       " 290: 'luggage',\n",
       " 291: 'playing_tennis',\n",
       " 292: 'books',\n",
       " 293: 'wii_controller',\n",
       " 294: 'bag',\n",
       " 295: 'towel',\n",
       " 296: 'baby',\n",
       " 297: 'very',\n",
       " 298: 'sink',\n",
       " 299: 'color',\n",
       " 300: 'milk',\n",
       " 301: 'giraffes',\n",
       " 302: 'hay',\n",
       " 303: 'england',\n",
       " 304: 'bowl',\n",
       " 305: 'floral',\n",
       " 306: 'salad',\n",
       " 307: 'child',\n",
       " 308: 'on',\n",
       " 309: 'background',\n",
       " 310: 'zebras',\n",
       " 311: 'glove',\n",
       " 312: 'adidas',\n",
       " 313: 'rocks',\n",
       " 314: 'spinach',\n",
       " 315: 'vase',\n",
       " 316: 'safety',\n",
       " 317: 'middle',\n",
       " 318: 'rain',\n",
       " 319: 'catcher',\n",
       " 320: '05',\n",
       " 321: 'motorcycles',\n",
       " 322: 'lights',\n",
       " 323: 'circle',\n",
       " 324: 'new_york',\n",
       " 325: 'real',\n",
       " 326: 'hair',\n",
       " 327: 'church',\n",
       " 328: 'brushing_teeth',\n",
       " 329: 'watch',\n",
       " 330: 'passenger',\n",
       " 331: 'talking_on_phone',\n",
       " 332: 'police',\n",
       " 333: 'soup',\n",
       " 334: 'both',\n",
       " 335: 'spring',\n",
       " 336: '17',\n",
       " 337: 'shadow',\n",
       " 338: 'flower',\n",
       " 339: 'cars',\n",
       " 340: 'book',\n",
       " 341: 'drinking',\n",
       " 342: 'racket',\n",
       " 343: 'hand',\n",
       " 344: 'mouse',\n",
       " 345: 'rainbow',\n",
       " 346: 'sneakers',\n",
       " 347: 'pole',\n",
       " 348: 'blanket',\n",
       " 349: 'bridge',\n",
       " 350: 'neither',\n",
       " 351: 'striped',\n",
       " 352: 'grazing',\n",
       " 353: 'windows',\n",
       " 354: 'front',\n",
       " 355: 'leather',\n",
       " 356: 'china',\n",
       " 357: 'wilson',\n",
       " 358: 'clothes',\n",
       " 359: 'ketchup',\n",
       " 360: 'box',\n",
       " 361: 'gas',\n",
       " 362: 'hot_dogs',\n",
       " 363: 'umbrellas',\n",
       " 364: 'coca_cola',\n",
       " 365: 'keyboard',\n",
       " 366: 'smiling',\n",
       " 367: '24',\n",
       " 368: 'shoes',\n",
       " 369: 'jacket',\n",
       " 370: 'forward',\n",
       " 371: 'kite_flying',\n",
       " 372: 'lunch',\n",
       " 373: 'collar',\n",
       " 374: 'rainy',\n",
       " 375: '22',\n",
       " 376: 'off',\n",
       " 377: 'batter',\n",
       " 378: 'train_station',\n",
       " 379: 'posing',\n",
       " 380: 'lamp',\n",
       " 381: 'seagull',\n",
       " 382: 'electric',\n",
       " 383: 'flying',\n",
       " 384: 'tennis_court',\n",
       " 385: 'in_air',\n",
       " 386: 'oven',\n",
       " 387: 'lab',\n",
       " 388: 'tabby',\n",
       " 389: 'talking',\n",
       " 390: 'resting',\n",
       " 391: 'reading',\n",
       " 392: 'young',\n",
       " 393: 'roses',\n",
       " 394: 'jumping',\n",
       " 395: 'on_plate',\n",
       " 396: 'checkered',\n",
       " 397: 'tracks',\n",
       " 398: 'texting',\n",
       " 399: 'on_wall',\n",
       " 400: 'sandals',\n",
       " 401: 'umpire',\n",
       " 402: 'stove',\n",
       " 403: 'rug',\n",
       " 404: 'long',\n",
       " 405: 'triangle',\n",
       " 406: 'rock',\n",
       " 407: 'surfboards',\n",
       " 408: 'lake',\n",
       " 409: 'branch',\n",
       " 410: 'rope',\n",
       " 411: 'door',\n",
       " 412: 'purse',\n",
       " 413: 'taking_picture',\n",
       " 414: 'soda',\n",
       " 415: 'playing_frisbee',\n",
       " 416: 'peppers',\n",
       " 417: 'pitcher',\n",
       " 418: 'parking_lot',\n",
       " 419: 'dessert',\n",
       " 420: 'clean',\n",
       " 421: 'photographer',\n",
       " 422: 'sunset',\n",
       " 423: 'large',\n",
       " 424: '19',\n",
       " 425: 'hotel',\n",
       " 426: 'running',\n",
       " 427: 'laying_down',\n",
       " 428: 'shade',\n",
       " 429: 'goggles',\n",
       " 430: '28',\n",
       " 431: 'double_decker',\n",
       " 432: 'top',\n",
       " 433: 't',\n",
       " 434: 'beef',\n",
       " 435: 'white_and_blue',\n",
       " 436: '23',\n",
       " 437: 'meat',\n",
       " 438: 'on_ground',\n",
       " 439: 'cup',\n",
       " 440: '_white',\n",
       " 441: 'rose',\n",
       " 442: 'skate_park',\n",
       " 443: 'outdoors',\n",
       " 444: 'wire',\n",
       " 445: 'taking_off',\n",
       " 446: 'controller',\n",
       " 447: 'parking',\n",
       " 448: 'boots',\n",
       " 449: 'toilet_paper',\n",
       " 450: 'pictures',\n",
       " 451: 'river',\n",
       " 452: 'downhill',\n",
       " 453: 'ceramic',\n",
       " 454: 'tomatoes',\n",
       " 455: 'heart',\n",
       " 456: 'ford',\n",
       " 457: 'warm',\n",
       " 458: 'plant',\n",
       " 459: 'bears',\n",
       " 460: 'straight',\n",
       " 461: 'red_and_yellow',\n",
       " 462: 'olives',\n",
       " 463: 'paint',\n",
       " 464: 'lemon',\n",
       " 465: 'basket',\n",
       " 466: 'modern',\n",
       " 467: 'away',\n",
       " 468: 'blue_and_yellow',\n",
       " 469: 'terrier',\n",
       " 470: 'riding',\n",
       " 471: 'strawberries',\n",
       " 472: 'calm',\n",
       " 473: 'pillow',\n",
       " 474: 'good',\n",
       " 475: 'school',\n",
       " 476: 'adult',\n",
       " 477: 'watching',\n",
       " 478: 'head',\n",
       " 479: 'bottle',\n",
       " 480: 'gloves',\n",
       " 481: 'wild',\n",
       " 482: 'electricity',\n",
       " 483: 'store',\n",
       " 484: '21',\n",
       " 485: 'white_and_black',\n",
       " 486: 'indoors',\n",
       " 487: 'flag',\n",
       " 488: 'tennis_ball',\n",
       " 489: 'ponytail',\n",
       " 490: 'batting',\n",
       " 491: '27',\n",
       " 492: 'landing',\n",
       " 493: 'oval',\n",
       " 494: 'back',\n",
       " 495: 'go',\n",
       " 496: 'parking_meter',\n",
       " 497: 'ham',\n",
       " 498: 'trash_can',\n",
       " 499: 'hot',\n",
       " 500: 'pepsi',\n",
       " 501: 'fishing',\n",
       " 502: 'decoration',\n",
       " 503: 'rice',\n",
       " 504: 'in_water',\n",
       " 505: 'shelf',\n",
       " 506: 'bikes',\n",
       " 507: 'canada',\n",
       " 508: 'jet',\n",
       " 509: 'boats',\n",
       " 510: 'vanilla',\n",
       " 511: 'red_and_black',\n",
       " 512: 'delta',\n",
       " 513: 'van',\n",
       " 514: 'headband',\n",
       " 515: 'daisy',\n",
       " 516: 'blinds',\n",
       " 517: 'water_skiing',\n",
       " 518: 'blender',\n",
       " 519: 'green_and_white',\n",
       " 520: '_blue',\n",
       " 521: 'planes',\n",
       " 522: 'fries',\n",
       " 523: 'wind',\n",
       " 524: 'red_and_blue',\n",
       " 525: 'octagon',\n",
       " 526: 'tower',\n",
       " 527: 'dining_room',\n",
       " 528: 'new',\n",
       " 529: 'smoke',\n",
       " 530: 'stop_sign',\n",
       " 531: 'men',\n",
       " 532: 'ski',\n",
       " 533: 'star',\n",
       " 534: 'clay',\n",
       " 535: 'one_way',\n",
       " 536: 'cutting_board',\n",
       " 537: 'swimming',\n",
       " 538: 'waves',\n",
       " 539: 'guitar',\n",
       " 540: 'mustard',\n",
       " 541: 'bottom',\n",
       " 542: 'dogs',\n",
       " 543: 'scarf',\n",
       " 544: 'necklace',\n",
       " 545: 'onions',\n",
       " 546: 'on_desk',\n",
       " 547: 'asphalt',\n",
       " 548: 'big',\n",
       " 549: 'suit',\n",
       " 550: 'turkey',\n",
       " 551: 'america',\n",
       " 552: 'steam',\n",
       " 553: 'cross',\n",
       " 554: 'playing_baseball',\n",
       " 555: 'human',\n",
       " 556: 'slow',\n",
       " 557: 'toy',\n",
       " 558: 'united',\n",
       " 559: 'carriage',\n",
       " 560: 'north',\n",
       " 561: 'market',\n",
       " 562: 'honda',\n",
       " 563: 'strawberry',\n",
       " 564: 'cotton',\n",
       " 565: 'air',\n",
       " 566: 'orange_juice',\n",
       " 567: 'ice_cream',\n",
       " 568: 'harley',\n",
       " 569: 'flying_kites',\n",
       " 570: '_red',\n",
       " 571: 'mercedes',\n",
       " 572: 'tea',\n",
       " 573: 'ceiling',\n",
       " 574: 'fridge',\n",
       " 575: 'protection',\n",
       " 576: 'duck',\n",
       " 577: 'cutting',\n",
       " 578: 'full',\n",
       " 579: 'clock_tower',\n",
       " 580: 'tall',\n",
       " 581: 'poles',\n",
       " 582: 'dress',\n",
       " 583: 'farm',\n",
       " 584: 'work',\n",
       " 585: 'high',\n",
       " 586: 'sausage',\n",
       " 587: 'wooden',\n",
       " 588: 'sugar',\n",
       " 589: 'skateboarder',\n",
       " 590: 'fan',\n",
       " 591: 'white_and_red',\n",
       " 592: 'india',\n",
       " 593: 'marble',\n",
       " 594: 'surfer',\n",
       " 595: 'headphones',\n",
       " 596: 'bacon',\n",
       " 597: 'ramp',\n",
       " 598: 'no_parking',\n",
       " 599: 'african',\n",
       " 600: 'dusk',\n",
       " 601: 'dirty',\n",
       " 602: 'raining',\n",
       " 603: 'polo',\n",
       " 604: 'helmets',\n",
       " 605: 'samsung',\n",
       " 606: 'diamond',\n",
       " 607: 'moving',\n",
       " 608: 'above',\n",
       " 609: 'parked',\n",
       " 610: 'ducks',\n",
       " 611: '3_feet',\n",
       " 612: 'granite',\n",
       " 613: 'trash',\n",
       " 614: 'parasailing',\n",
       " 615: 'orange_and_white',\n",
       " 616: 'typing',\n",
       " 617: 'forest',\n",
       " 618: 'fire',\n",
       " 619: 'station',\n",
       " 620: 'hit_ball',\n",
       " 621: 'hats',\n",
       " 622: 'cart',\n",
       " 623: '_yellow',\n",
       " 624: 'candles',\n",
       " 625: 'gray_and_white',\n",
       " 626: 'plain',\n",
       " 627: 'grapes',\n",
       " 628: 'dry',\n",
       " 629: 'cutting_cake',\n",
       " 630: 'painting',\n",
       " 631: 'calico',\n",
       " 632: 'p',\n",
       " 633: \"don't_know\",\n",
       " 634: 'seagulls',\n",
       " 635: 'collie',\n",
       " 636: 'sweater',\n",
       " 637: 'chain_link',\n",
       " 638: 'bracelet',\n",
       " 639: 'smile',\n",
       " 640: 'polar',\n",
       " 641: 'cement',\n",
       " 642: 'tulips',\n",
       " 643: 'military',\n",
       " 644: 'hands',\n",
       " 645: 'pan',\n",
       " 646: 'bmw',\n",
       " 647: '38',\n",
       " 648: 'coke',\n",
       " 649: 'wine_glass',\n",
       " 650: 'cargo',\n",
       " 651: 'fork_and_knife',\n",
       " 652: 'beard',\n",
       " 653: 'soap',\n",
       " 654: 'south',\n",
       " 655: 'skateboards',\n",
       " 656: 'catching',\n",
       " 657: 'dunkin_donuts',\n",
       " 658: '2_feet',\n",
       " 659: 'sad',\n",
       " 660: 'face',\n",
       " 661: '26',\n",
       " 662: 'a',\n",
       " 663: 'urban',\n",
       " 664: 'party',\n",
       " 665: 'cloth',\n",
       " 666: 'united_states',\n",
       " 667: 'baseball_field',\n",
       " 668: 'pasta',\n",
       " 669: 'mushrooms',\n",
       " 670: '32',\n",
       " 671: 'on_bed',\n",
       " 672: 'twin',\n",
       " 673: 'flip_flops',\n",
       " 674: 'fire_truck',\n",
       " 675: 'curtain',\n",
       " 676: 'eggs',\n",
       " 677: 'w',\n",
       " 678: 'bow',\n",
       " 679: 'pants',\n",
       " 680: '_green',\n",
       " 681: 'public',\n",
       " 682: 'game',\n",
       " 683: 'italian',\n",
       " 684: 'bakery',\n",
       " 685: 'sparrow',\n",
       " 686: 'sauce',\n",
       " 687: 'stuffed_animal',\n",
       " 688: 'cumulus',\n",
       " 689: 'yellow_and_blue',\n",
       " 690: 'steak',\n",
       " 691: '33',\n",
       " 692: 'big_ben',\n",
       " 693: 'east',\n",
       " 694: 'on_right',\n",
       " 695: \"mcdonald's\",\n",
       " 696: 'buildings',\n",
       " 697: 'stainless_steel',\n",
       " 698: 'parade',\n",
       " 699: 'low',\n",
       " 700: '34',\n",
       " 701: 'ski_lift',\n",
       " 702: 'pot',\n",
       " 703: 'stairs',\n",
       " 704: 'football',\n",
       " 705: 'b',\n",
       " 706: 'chairs',\n",
       " 707: 'towels',\n",
       " 708: 'california',\n",
       " 709: 'paddle',\n",
       " 710: '2012',\n",
       " 711: 'soccer_ball',\n",
       " 712: 'jump',\n",
       " 713: 'pen',\n",
       " 714: 'plants',\n",
       " 715: 'dock',\n",
       " 716: 'on_building',\n",
       " 717: '200',\n",
       " 718: 'desktop',\n",
       " 719: 'cabinet',\n",
       " 720: 'hydrant',\n",
       " 721: 'crane',\n",
       " 722: 'surf',\n",
       " 723: 'shower',\n",
       " 724: 'green_and_yellow',\n",
       " 725: 'toyota',\n",
       " 726: 'squares',\n",
       " 727: 'handle',\n",
       " 728: 'women',\n",
       " 729: 'scooter',\n",
       " 730: 'polar_bear',\n",
       " 731: 'fast',\n",
       " 732: 'behind',\n",
       " 733: 'chef',\n",
       " 734: 'crosswalk',\n",
       " 735: 'france',\n",
       " 736: 'driving',\n",
       " 737: 'mozzarella',\n",
       " 738: 'maple',\n",
       " 739: '60',\n",
       " 740: 'at_camera',\n",
       " 741: 'german',\n",
       " 742: 'drywall',\n",
       " 743: 'bandana',\n",
       " 744: 'apartment',\n",
       " 745: 'bicycles',\n",
       " 746: 'yellow_and_red',\n",
       " 747: 'desert',\n",
       " 748: 'tag',\n",
       " 749: 'butter',\n",
       " 750: 'parrot',\n",
       " 751: 'potatoes',\n",
       " 752: 'phones',\n",
       " 753: 'japan',\n",
       " 754: 'tray',\n",
       " 755: 'cats',\n",
       " 756: 'sony',\n",
       " 757: 'asia',\n",
       " 758: 'cowboy',\n",
       " 759: 'egg',\n",
       " 760: 'cleaning',\n",
       " 761: 'candle',\n",
       " 762: 'c',\n",
       " 763: 'nighttime',\n",
       " 764: 'napkin',\n",
       " 765: '29',\n",
       " 766: 'balance',\n",
       " 767: 'on_left',\n",
       " 768: 'ring',\n",
       " 769: 'yellow_and_black',\n",
       " 770: 'on_tracks',\n",
       " 771: 'chopsticks',\n",
       " 772: 'lighthouse',\n",
       " 773: 'traffic',\n",
       " 774: 'bricks',\n",
       " 775: 'waiting',\n",
       " 776: 'yellow_and_white',\n",
       " 777: 'poodle',\n",
       " 778: 'red_sox',\n",
       " 779: 'reflection',\n",
       " 780: 'pepper',\n",
       " 781: 'stick',\n",
       " 782: 'business',\n",
       " 783: 'not_sure',\n",
       " 784: 'commercial',\n",
       " 785: 'german_shepherd',\n",
       " 786: 'swan',\n",
       " 787: 'sandwiches',\n",
       " 788: 'half',\n",
       " 789: 'walk',\n",
       " 790: 'golden_retriever',\n",
       " 791: 'all',\n",
       " 792: 'fedex',\n",
       " 793: 'bun',\n",
       " 794: 'sprinkles',\n",
       " 795: 'serving',\n",
       " 796: '2010',\n",
       " 797: 'straw',\n",
       " 798: 'bar',\n",
       " 799: 'fireplace',\n",
       " 800: 'bowling',\n",
       " 801: 'green_beans',\n",
       " 802: 'words',\n",
       " 803: 'bus_stop',\n",
       " 804: 'hp',\n",
       " 805: 'laying',\n",
       " 806: '44',\n",
       " 807: 'cucumber',\n",
       " 808: 'roof',\n",
       " 809: 'mutt',\n",
       " 810: 'sunlight',\n",
       " 811: 'boston',\n",
       " 812: 'basketball',\n",
       " 813: 'pickle',\n",
       " 814: 'dodgers',\n",
       " 815: '42',\n",
       " 816: 'parsley',\n",
       " 817: 'fun',\n",
       " 818: 'looking',\n",
       " 819: 'net',\n",
       " 820: 'curtains',\n",
       " 821: '_black',\n",
       " 822: 'logo',\n",
       " 823: 'italy',\n",
       " 824: 'halloween',\n",
       " 825: 'porcelain',\n",
       " 826: 'dark',\n",
       " 827: '10_feet',\n",
       " 828: 'queen',\n",
       " 829: 'downtown',\n",
       " 830: 'fake',\n",
       " 831: 'north_america',\n",
       " 832: 'frosting',\n",
       " 833: 'shoe',\n",
       " 834: 'on_counter',\n",
       " 835: 'boating',\n",
       " 836: '43',\n",
       " 837: 'suv',\n",
       " 838: 'working',\n",
       " 839: '37',\n",
       " 840: 'finch',\n",
       " 841: 'out',\n",
       " 842: 'newspaper',\n",
       " 843: \"can't_tell\",\n",
       " 844: 'kia',\n",
       " 845: 'cone',\n",
       " 846: 'nokia',\n",
       " 847: 'one_on_right',\n",
       " 848: 'transportation',\n",
       " 849: 'indian',\n",
       " 850: 'pug',\n",
       " 851: 'steel',\n",
       " 852: 'fur',\n",
       " 853: 'germany',\n",
       " 854: 'wet',\n",
       " 855: 'french',\n",
       " 856: 'roman',\n",
       " 857: 'statue',\n",
       " 858: 'fedora',\n",
       " 859: 'smoothie',\n",
       " 860: 'starbucks',\n",
       " 861: 'bathtub',\n",
       " 862: 'white_and_brown',\n",
       " 863: 'beans',\n",
       " 864: 'daisies',\n",
       " 865: 'family',\n",
       " 866: 'magnets',\n",
       " 867: 'hungry',\n",
       " 868: 'visor',\n",
       " 869: 'basil',\n",
       " 870: 'west',\n",
       " 871: 'juice',\n",
       " 872: 'red_and_green',\n",
       " 873: 'empty',\n",
       " 874: 'goat',\n",
       " 875: 'corner',\n",
       " 876: 'blue_and_red',\n",
       " 877: 'wave',\n",
       " 878: 'pigeon',\n",
       " 879: 'chicago',\n",
       " 880: 'owl',\n",
       " 881: 'sailboat',\n",
       " 882: '08',\n",
       " 883: 'hair_dryer',\n",
       " 884: 'children',\n",
       " 885: 'barn',\n",
       " 886: 'on_street',\n",
       " 887: 'museum',\n",
       " 888: 'corn',\n",
       " 889: 'asparagus',\n",
       " 890: 'multi',\n",
       " 891: 'skier',\n",
       " 892: 'eagle',\n",
       " 893: 'playing_game',\n",
       " 894: 'on_floor',\n",
       " 895: 'e',\n",
       " 896: '48',\n",
       " 897: 'signs',\n",
       " 898: 'shallow',\n",
       " 899: 'rural',\n",
       " 900: 'siamese',\n",
       " 901: 'pineapple',\n",
       " 902: 's',\n",
       " 903: 'gravel',\n",
       " 904: 'natural',\n",
       " 905: 'wool',\n",
       " 906: 'friends',\n",
       " 907: 'serve',\n",
       " 908: 'giants',\n",
       " 909: 'bull',\n",
       " 910: 'french_fries',\n",
       " 911: 'pelican',\n",
       " 912: 'vegetable',\n",
       " 913: 'brush',\n",
       " 914: '_orange',\n",
       " 915: 'microphone',\n",
       " 916: 'cigarette',\n",
       " 917: 'medium',\n",
       " 918: 'yamaha',\n",
       " 919: 'runway',\n",
       " 920: 'country',\n",
       " 921: 'not_possible',\n",
       " 922: 'bell',\n",
       " 923: '07',\n",
       " 924: 'harness',\n",
       " 925: 'pillows',\n",
       " 926: '2013',\n",
       " 927: 'cookies',\n",
       " 928: 'vertical',\n",
       " 929: 'gothic',\n",
       " 930: '36',\n",
       " 931: 'rack',\n",
       " 932: 'little',\n",
       " 933: 'san_francisco',\n",
       " 934: '02',\n",
       " 935: 'glazed',\n",
       " 936: 'cleats',\n",
       " 937: 'several',\n",
       " 938: 'drink',\n",
       " 939: 'army',\n",
       " 940: 'bulldog',\n",
       " 941: 'library',\n",
       " 942: 'railing',\n",
       " 943: 'yankees',\n",
       " 944: 'skirt',\n",
       " 945: 'boxes',\n",
       " 946: 'cross_country',\n",
       " 947: 'vest',\n",
       " 948: 'swinging',\n",
       " 949: '99',\n",
       " 950: 'red_white_and_blue',\n",
       " 951: 'm',\n",
       " 952: 'peas',\n",
       " 953: 'navy',\n",
       " 954: 'pink_and_white',\n",
       " 955: 'deer',\n",
       " 956: 'log',\n",
       " 957: 'tennis_rackets',\n",
       " 958: 'windsurfing',\n",
       " 959: 'window_sill',\n",
       " 960: 'black_and_red',\n",
       " 961: '2011',\n",
       " 962: 'cherry',\n",
       " 963: '53',\n",
       " 964: 'private',\n",
       " 965: 'tired',\n",
       " 966: 'pie',\n",
       " 967: '03',\n",
       " 968: 'harley_davidson',\n",
       " 969: '47',\n",
       " 970: 'catching_frisbee',\n",
       " 971: 'butterfly',\n",
       " 972: 'grizzly',\n",
       " 973: 'camouflage',\n",
       " 974: 'bucket',\n",
       " 975: 'on_pole',\n",
       " 976: 'propeller',\n",
       " 977: 'watermelon',\n",
       " 978: '1_foot',\n",
       " 979: 'deep',\n",
       " 980: 'tennis_shoes',\n",
       " 981: 'friend',\n",
       " 982: 'fabric',\n",
       " 983: 'mask',\n",
       " 984: 'pitching',\n",
       " 985: 'pitbull',\n",
       " 986: 'pots',\n",
       " 987: 'horns',\n",
       " 988: 'broken',\n",
       " 989: 'vases',\n",
       " 990: 'peace',\n",
       " 991: 'cheesecake',\n",
       " 992: 'lufthansa',\n",
       " 993: 'hill',\n",
       " 994: '41',\n",
       " 995: 'lily',\n",
       " 996: 'spanish',\n",
       " 997: 'panda',\n",
       " 998: '31',\n",
       " 999: 'tiger',\n",
       " 1000: 'caution',\n",
       " ...}"
      ]
     },
     "execution_count": 133,
     "metadata": {},
     "output_type": "execute_result"
    }
   ],
   "source": [
    "tokenizer_onehot.index_word"
   ]
  },
  {
   "cell_type": "raw",
   "metadata": {},
   "source": [
    "data=pd.read_csv(\"data_complete.csv\",usecols=[\"answer\"])\n",
    "print(len(data[\"answer\"]),len(data[\"answer\"].index[data['answer'] == \"no_answer\"].tolist())/len(data[\"answer\"]))"
   ]
  },
  {
   "cell_type": "code",
   "execution_count": 134,
   "metadata": {
    "scrolled": true
   },
   "outputs": [
    {
     "data": {
      "text/plain": [
       "array([[0., 0., 0., ..., 0., 0., 0.]])"
      ]
     },
     "execution_count": 134,
     "metadata": {},
     "output_type": "execute_result"
    }
   ],
   "source": [
    "tokenizer_onehot.texts_to_matrix(tokenizer_onehot.sequences_to_texts([dataArgMax.loc[num]]))"
   ]
  },
  {
   "cell_type": "code",
   "execution_count": 135,
   "metadata": {},
   "outputs": [
    {
     "data": {
      "text/plain": [
       "array([0., 0., 0., ..., 0., 0., 0.], dtype=float32)"
      ]
     },
     "execution_count": 135,
     "metadata": {},
     "output_type": "execute_result"
    }
   ],
   "source": [
    "to_categorical(dataArgMax.loc[num], num_classes=num_classes)[0]"
   ]
  },
  {
   "cell_type": "code",
   "execution_count": 136,
   "metadata": {},
   "outputs": [
    {
     "data": {
      "text/plain": [
       "['down']"
      ]
     },
     "execution_count": 136,
     "metadata": {},
     "output_type": "execute_result"
    }
   ],
   "source": [
    "tokenizer_onehot.sequences_to_texts([[np.argmax(to_categorical(dataArgMax.loc[num], num_classes=num_classes))]])"
   ]
  },
  {
   "cell_type": "code",
   "execution_count": null,
   "metadata": {},
   "outputs": [],
   "source": []
  },
  {
   "cell_type": "code",
   "execution_count": null,
   "metadata": {},
   "outputs": [],
   "source": []
  }
 ],
 "metadata": {
  "kernelspec": {
   "display_name": "Python 3",
   "language": "python",
   "name": "python3"
  },
  "language_info": {
   "codemirror_mode": {
    "name": "ipython",
    "version": 3
   },
   "file_extension": ".py",
   "mimetype": "text/x-python",
   "name": "python",
   "nbconvert_exporter": "python",
   "pygments_lexer": "ipython3",
   "version": "3.8.5"
  }
 },
 "nbformat": 4,
 "nbformat_minor": 4
}
